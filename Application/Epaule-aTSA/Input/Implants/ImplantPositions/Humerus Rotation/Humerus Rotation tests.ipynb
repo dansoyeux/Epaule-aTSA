{
 "cells": [
  {
   "cell_type": "code",
   "execution_count": 1,
   "id": "7334b90c",
   "metadata": {},
   "outputs": [],
   "source": [
    "import numpy as np\n",
    "import JupyterNotebooksLib as slicernb\n",
    "import slicer\n",
    "import vtk"
   ]
  },
  {
   "cell_type": "code",
   "execution_count": 2,
   "id": "e7c7ea06",
   "metadata": {},
   "outputs": [],
   "source": [
    "\"\"\"\"\n",
    "Converts a string containing the anybody definition of a matrix and converts it to an numpy.array\n",
    "\"\"\"    \n",
    "def AnyMatrix2Array(string):\n",
    "    import numpy as np\n",
    "    string = string.replace(\" \",\"\")\n",
    "    matrix = []\n",
    "    if string[0:2]==\"{{\":\n",
    "        Type = \"Matrix\"\n",
    "        rows = string.split(\"},{\")\n",
    "        rows[0] = rows[0].replace(\"{{\",\"\")\n",
    "        rows[-1] = rows[-1].replace(\"}}\",\"\")\n",
    "    else:\n",
    "        \n",
    "        rows = string.split(\"},{\")\n",
    "        rows[0] = rows[0].replace(\"{\",\"\")\n",
    "        rows[-1] = rows[-1].replace(\"}\",\"\")\n",
    "        \n",
    "        if len(rows[0].split(\",\"))==1:\n",
    "            Type = \"Value\"\n",
    "        else:\n",
    "            Type = \"Vector\"\n",
    "    \n",
    "    \n",
    "    \n",
    "    if Type == \"Value\":\n",
    "        matrix = eval(rows[0])\n",
    "    elif Type == \"Vector\":\n",
    "        rows = rows[0].split(\",\")\n",
    "        rows = [eval(i) for i in rows]\n",
    "        matrix.append(rows)\n",
    "        matrix = np.array(matrix)\n",
    "    else:  \n",
    "        for row in rows:\n",
    "            elements = row.split(\",\")\n",
    "            elements = [eval(i) for i in elements]\n",
    "            matrix.append(elements)\n",
    "        matrix = np.array(matrix)\n",
    "\n",
    "    return matrix\n",
    "\n",
    "\"\"\"\n",
    "Input : rotation matrix and translation vector to a 4x4 matrix for a 3d slicer transform\n",
    "\"\"\"\n",
    "def TransformMatrix(RotMat=None,Vect=None):\n",
    "    import numpy as np\n",
    "    \n",
    "    if RotMat is None:\n",
    "        RotMat = np.eye(3)\n",
    "    if Vect is None:\n",
    "        Vect = np.zeros(3)\n",
    "    \n",
    "    Mat = np.eye(4)\n",
    "    \n",
    "    Mat[0:3,0:3]= RotMat\n",
    "    Mat[0:3,3] = Vect\n",
    "    return Mat\n",
    "\n",
    "\n",
    "\"\"\"\n",
    "Function to set the 4x4 transform matrix to a transform in 3d slicer from arrays\n",
    "\"\"\"\n",
    "def SetTransformMatrix(TransformName, RotMat=False,Vect=False):\n",
    "    \n",
    "    TransformMat = TransformMatrix(RotMat,Vect)\n",
    "    \n",
    "    Transform = slicer.util.getNode(TransformName)\n",
    "    Transform.SetMatrixTransformToParent(slicer.util.vtkMatrixFromArray(TransformMat))\n"
   ]
  },
  {
   "cell_type": "code",
   "execution_count": 3,
   "id": "c8bc2e1c",
   "metadata": {},
   "outputs": [],
   "source": [
    "def AngleBetweenAxis(AxisNodeNames):\n",
    "  import numpy as np\n",
    "  lineDirectionVectors = []\n",
    "  for lineNodeName in AxisNodeNames:\n",
    "    lineNode = slicer.util.getFirstNodeByClassByName(\"vtkMRMLMarkupsLineNode\", lineNodeName)\n",
    "    lineStartPos = np.zeros(3)\n",
    "    lineEndPos = np.zeros(3)\n",
    "    lineNode.GetNthControlPointPositionWorld(0, lineStartPos)\n",
    "    lineNode.GetNthControlPointPositionWorld(1, lineEndPos)\n",
    "    lineDirectionVector = (lineEndPos-lineStartPos)/np.linalg.norm(lineEndPos-lineStartPos)\n",
    "    lineDirectionVectors.append(lineDirectionVector)\n",
    "  angleRad = vtk.vtkMath.AngleBetweenVectors(lineDirectionVectors[0], lineDirectionVectors[1])\n",
    "  angleDeg = vtk.vtkMath.DegreesFromRadians(angleRad)\n",
    "  return angleDeg  \n",
    "    \n"
   ]
  },
  {
   "cell_type": "code",
   "execution_count": 6,
   "id": "56d4345a",
   "metadata": {},
   "outputs": [
    {
     "name": "stdout",
     "output_type": "stream",
     "text": [
      "0.9077880669465732\n"
     ]
    }
   ],
   "source": [
    "# local tilt axis\n",
    "\n",
    "RHum_Me = AnyMatrix2Array(\"{{0.8296721, -0.4502591, -0.3300165},{-0.3033696, -0.8599025, 0.4105297},{-0.4686267, -0.2404881, -0.8500321}}\")\n",
    "RGlen_Me = AnyMatrix2Array(\"{{0.8216931, 0.271819, 0.5009341},{-0.315746, 0.9488388, 0.003061939},{-0.4744734, -0.1606839, 0.86548}}\")\n",
    "\n",
    "SetTransformMatrix(\"Hum_Me\",RotMat = RHum_Me)\n",
    "SetTransformMatrix(\"Glen_Me\",RotMat = RGlen_Me)\n",
    "\n",
    "Angle = AngleBetweenAxis([\"x Hum Me\",\"x Glen Me\"])\n",
    "print(Angle)"
   ]
  },
  {
   "cell_type": "code",
   "execution_count": null,
   "id": "89bd00ee",
   "metadata": {},
   "outputs": [],
   "source": [
    "# scapula axis\n",
    "# xup\n",
    "\n",
    "\n",
    "RHum_Me = AnyMatrix2Array(\"{{0.8296721, -0.4502591, -0.3300165},{-0.3033696, -0.8599025, 0.4105297},{-0.4686267, -0.2404881, -0.8500321}}\")\n",
    "RGlen_Me = AnyMatrix2Array(\"{{0.8216931, 0.271819, 0.5009341},{-0.315746, 0.9488388, 0.003061939},{-0.4744734, -0.1606839, 0.86548}}\")\n",
    "\n",
    "SetTransformMatrix(\"Hum_Me\",RotMat = RHum_Me)\n",
    "SetTransformMatrix(\"Glen_Me\",RotMat = RGlen_Me)\n",
    "\n",
    "Angle = AngleBetweenAxis([\"x Hum Me\",\"x Glen Me\"])\n",
    "print(Angle)"
   ]
  }
 ],
 "metadata": {
  "kernelspec": {
   "display_name": "Slicer 5.4",
   "language": "python",
   "name": "slicer-5.4"
  },
  "language_info": {
   "file_extension": ".py",
   "mimetype": "text/x-python",
   "name": "python",
   "version": "3.9.10"
  }
 },
 "nbformat": 4,
 "nbformat_minor": 5
}
