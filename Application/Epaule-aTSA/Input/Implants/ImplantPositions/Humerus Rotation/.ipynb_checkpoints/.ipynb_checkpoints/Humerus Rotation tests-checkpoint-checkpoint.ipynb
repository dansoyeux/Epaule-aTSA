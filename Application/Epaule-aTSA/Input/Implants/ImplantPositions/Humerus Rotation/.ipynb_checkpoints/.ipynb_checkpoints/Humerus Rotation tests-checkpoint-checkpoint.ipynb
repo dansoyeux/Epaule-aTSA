{
 "cells": [
  {
   "cell_type": "code",
   "execution_count": 1,
   "id": "7334b90c",
   "metadata": {},
   "outputs": [],
   "source": [
    "import numpy as np\n",
    "import JupyterNotebooksLib as slicernb\n",
    "import slicer\n",
    "import vtk"
   ]
  },
  {
   "cell_type": "code",
   "execution_count": 2,
   "id": "e7c7ea06",
   "metadata": {},
   "outputs": [],
   "source": [
    "\"\"\"\"\n",
    "Converts a string containing the anybody definition of a matrix and converts it to an numpy.array\n",
    "\"\"\"    \n",
    "def AnyMatrix2Array(string):\n",
    "    import numpy as np\n",
    "    string = string.replace(\" \",\"\")\n",
    "    matrix = []\n",
    "    if string[0:2]==\"{{\":\n",
    "        Type = \"Matrix\"\n",
    "        rows = string.split(\"},{\")\n",
    "        rows[0] = rows[0].replace(\"{{\",\"\")\n",
    "        rows[-1] = rows[-1].replace(\"}}\",\"\")\n",
    "    else:\n",
    "        \n",
    "        rows = string.split(\"},{\")\n",
    "        rows[0] = rows[0].replace(\"{\",\"\")\n",
    "        rows[-1] = rows[-1].replace(\"}\",\"\")\n",
    "        \n",
    "        if len(rows[0].split(\",\"))==1:\n",
    "            Type = \"Value\"\n",
    "        else:\n",
    "            Type = \"Vector\"\n",
    "    \n",
    "    \n",
    "    \n",
    "    if Type == \"Value\":\n",
    "        matrix = eval(rows[0])\n",
    "    elif Type == \"Vector\":\n",
    "        rows = rows[0].split(\",\")\n",
    "        rows = [eval(i) for i in rows]\n",
    "        matrix.append(rows)\n",
    "        matrix = np.array(matrix)\n",
    "    else:  \n",
    "        for row in rows:\n",
    "            elements = row.split(\",\")\n",
    "            elements = [eval(i) for i in elements]\n",
    "            matrix.append(elements)\n",
    "        matrix = np.array(matrix)\n",
    "\n",
    "    return matrix\n",
    "\n",
    "\"\"\"\n",
    "Input : rotation matrix and translation vector to a 4x4 matrix for a 3d slicer transform\n",
    "\"\"\"\n",
    "def TransformMatrix(RotMat=None,Vect=None):\n",
    "    import numpy as np\n",
    "    \n",
    "    if RotMat is None:\n",
    "        RotMat = np.eye(3)\n",
    "    if Vect is None:\n",
    "        Vect = np.zeros(3)\n",
    "    \n",
    "    Mat = np.eye(4)\n",
    "    \n",
    "    Mat[0:3,0:3]= RotMat\n",
    "    Mat[0:3,3] = Vect\n",
    "    return Mat\n",
    "\n",
    "\n",
    "\"\"\"\n",
    "Function to set the 4x4 transform matrix to a transform in 3d slicer from arrays\n",
    "\"\"\"\n",
    "def SetTransformMatrix(TransformName, RotMat=False,Vect=False):\n",
    "    \n",
    "    TransformMat = TransformMatrix(RotMat,Vect)\n",
    "    \n",
    "    Transform = slicer.util.getNode(TransformName)\n",
    "    Transform.SetMatrixTransformToParent(slicer.util.vtkMatrixFromArray(TransformMat))\n"
   ]
  },
  {
   "cell_type": "code",
   "execution_count": 3,
   "id": "c8bc2e1c",
   "metadata": {},
   "outputs": [],
   "source": [
    "def AngleBetweenAxis(AxisNodeNames):\n",
    "  import numpy as np\n",
    "  lineDirectionVectors = []\n",
    "  for lineNodeName in AxisNodeNames:\n",
    "    lineNode = slicer.util.getFirstNodeByClassByName(\"vtkMRMLMarkupsLineNode\", lineNodeName)\n",
    "    lineStartPos = np.zeros(3)\n",
    "    lineEndPos = np.zeros(3)\n",
    "    lineNode.GetNthControlPointPositionWorld(0, lineStartPos)\n",
    "    lineNode.GetNthControlPointPositionWorld(1, lineEndPos)\n",
    "    lineDirectionVector = (lineEndPos-lineStartPos)/np.linalg.norm(lineEndPos-lineStartPos)\n",
    "    lineDirectionVectors.append(lineDirectionVector)\n",
    "  angleRad = vtk.vtkMath.AngleBetweenVectors(lineDirectionVectors[0], lineDirectionVectors[1])\n",
    "  angleDeg = vtk.vtkMath.DegreesFromRadians(angleRad)\n",
    "  return angleDeg  \n",
    "    \n"
   ]
  },
  {
   "cell_type": "code",
   "execution_count": 4,
   "id": "eaa6d058",
   "metadata": {},
   "outputs": [],
   "source": [
    "# Lauranne's values\n",
    "# Values of Axes after initial conditions\n",
    "RGlen_Laur = AnyMatrix2Array(\"{{0.8050566, 0.1937416, 0.5606676},{-0.2223788, 0.9748026, -0.01753679},{-0.5499378, -0.1105625, 0.8278553}}\")\n",
    "RHum_Laur = AnyMatrix2Array(\"{{0.7227381, -0.445036, -0.5287653},{-0.269066, -0.8859063, 0.3778538},{-0.636595, -0.1308165, -0.7600223}}\")\n",
    "\n",
    "#Values of r after initial conditions\n",
    "TGlen_Laur = AnyMatrix2Array(\"{0.004691832, 0.3991605, 0.1470714}\")\n",
    "THum_Laur = AnyMatrix2Array(\"{0.0300267, 0.399928, 0.1831996}\")\n",
    "\n",
    "\n",
    "# TRANSFORM DOESN'T WORK, WRONG RELATIVE ANGLES\n",
    "# Rotation matrix so that Glen is aligned with the global axis and humerus has still the same relative position\n",
    "# Rhum * Rglen^-1\n",
    "RHum_Laur_Local = np.dot(RHum_Laur,RGlen_Laur)"
   ]
  },
  {
   "cell_type": "code",
   "execution_count": 5,
   "id": "5f1cf183",
   "metadata": {},
   "outputs": [],
   "source": [
    "# Set Lauranne Transform matrix \n",
    "SetTransformMatrix(\"Hum_Laur_Local\",RotMat = RHum_Laur_Local)\n",
    "SetTransformMatrix(\"Hum_Laur\",RotMat = RHum_Laur)\n",
    "SetTransformMatrix(\"Glen_Laur\",RotMat = RGlen_Laur)"
   ]
  },
  {
   "cell_type": "code",
   "execution_count": 6,
   "id": "bdf2a4b7",
   "metadata": {},
   "outputs": [],
   "source": [
    "# For case neutre in my model\n",
    "# -25 External rotation after initial conditions\n",
    "RHum_Me = AnyMatrix2Array(\"{{0.6932764, -0.5361719, -0.4815471},{-0.344545, -0.833474, 0.4319836},{-0.6329744, -0.1335694, -0.7625632}}\")\n",
    "RGlen_Me = AnyMatrix2Array(\"{{0.8204071, 0.2495989, 0.5144245},{-0.3156125, 0.9478941, 0.04342201},{-0.4767819, -0.1979825, 0.8564356}}\")\n",
    "\n",
    "# TRANSFORM DOESN'T WORK, WRONG RELATIVE ANGLES\n",
    "# Rotation matrix so that Glen is aligned with the global axis and humerus has still the same relative position\n",
    "# Rhum * Rglen^-1\n",
    "RHum_Me_Local = np.dot(RHum_Me,RGlen_Me)\n",
    "\n",
    "#Case 0\n",
    "#-20\n",
    "#RHum_Me2 = AnyMatrix2Array(\"{{0.6963102, -0.6220417, -0.3580729},{-0.434497, -0.7624087, 0.4795261},{-0.5712832, -0.1783173, -0.8011482}}\")\n",
    "#RGlen_Me2 = AnyMatrix2Array(\"{{0.7687015, 0.3817386, 0.5131994},{-0.4292304, 0.9027431, -0.02856937},{-0.4741932, -0.1983195, 0.8577938}}\")\n",
    "\n",
    "#-23\n",
    "#RHum_Me2 = AnyMatrix2Array(\"{{0.6615675, -0.6387442, -0.392854},{-0.4376792, -0.7542957, 0.4893617},{-0.6089051, -0.1518018, -0.7785826}}\")\n",
    "#RGlen_Me2 = AnyMatrix2Array(\"{{0.7678624, 0.3816738, 0.5145022},{-0.4290198, 0.9028148, -0.02945089},{-0.4757408, -0.1981174, 0.8569832}}\")\n",
    "\n",
    "#-21\n",
    "RHum_Me2 = AnyMatrix2Array(\"{{0.7398372, -0.5136227, -0.4345488},{-0.3340296, -0.8410866, 0.425438},{-0.5840078, -0.1696027, -0.7938323}}\")\n",
    "RGlen_Me2 = AnyMatrix2Array(\"{{0.8215853, 0.2497005, 0.5124913},{-0.3157348, 0.9478099, 0.04436063},{-0.4746675, -0.1982574, 0.8575458}}\")\n"
   ]
  },
  {
   "cell_type": "code",
   "execution_count": 7,
   "id": "4618be68",
   "metadata": {},
   "outputs": [
    {
     "name": "stdout",
     "output_type": "stream",
     "text": [
      "Case 1 : Angle Moi -25° = 11.677519724629494\n",
      "Case 1 : Angle Laur -25° = 7.357131033681575\n"
     ]
    }
   ],
   "source": [
    "# Set My transform matrixes\n",
    "SetTransformMatrix(\"Hum_Me_Local\",RotMat = RHum_Me_Local)\n",
    "SetTransformMatrix(\"Hum_Me\",RotMat = RHum_Me)\n",
    "SetTransformMatrix(\"Glen_Me\",RotMat = RGlen_Me)\n",
    "\n",
    "# global\n",
    "Angle_Me = AngleBetweenAxis([\"x Hum Me\",\"x Glen Me\"])\n",
    "print(\"Case 1 : Angle Moi -25° = \" + str(Angle_Me))\n",
    "\n",
    "Angle_Laur = AngleBetweenAxis([\"x Hum Laur\",\"x Glen Laur\"])\n",
    "print(\"Case 1 : Angle Laur -25° = \" + str(Angle_Laur))\n"
   ]
  },
  {
   "cell_type": "code",
   "execution_count": 8,
   "id": "60d44f95",
   "metadata": {},
   "outputs": [
    {
     "name": "stdout",
     "output_type": "stream",
     "text": [
      "Case 1 : Angle Moi -25° = 7.898265354497378\n",
      "Case 1 : Angle Laur -25° = 7.357131033681575\n"
     ]
    }
   ],
   "source": [
    "# Après rotation\n",
    "SetTransformMatrix(\"Hum_Me\",RotMat = RHum_Me2)\n",
    "SetTransformMatrix(\"Glen_Me\",RotMat = RGlen_Me2)\n",
    "\n",
    "Angle_Me2 = AngleBetweenAxis([\"x Hum Me\",\"x Glen Me\"])\n",
    "print(\"Case 1 : Angle Moi -25° = \" + str(Angle_Me2))\n",
    "\n",
    "Angle_Laur = AngleBetweenAxis([\"x Hum Laur\",\"x Glen Laur\"])\n",
    "print(\"Case 1 : Angle Laur -25° = \" + str(Angle_Laur))"
   ]
  },
  {
   "cell_type": "code",
   "execution_count": 9,
   "id": "6273a0d2",
   "metadata": {},
   "outputs": [],
   "source": [
    "# Case 3\n",
    "\n",
    "#-15 ScapulaTiltAxis\n",
    "#RHum_Me2 = AnyMatrix2Array(\"{{0.8037294, -0.4711858, -0.3633223},{-0.3133324, -0.8542821, 0.4147588},{-0.5058082, -0.2195132, -0.8342494}}\")\n",
    "#RGlen_Me2 = AnyMatrix2Array(\"{{0.8186558, 0.1081129, 0.5640162},{-0.3873113, 0.829083, 0.403251},{-0.4240195, -0.5485736, 0.720607}}\")\n",
    "\n",
    "#-16 ScapulaTiltAxis\n",
    "#RHum_Me2 = AnyMatrix2Array(\"{{0.7931254, -0.4810673, -0.3735324},{-0.3193305, -0.8506911, 0.4175557},{-0.518633, -0.2118937, -0.8283241}}\")\n",
    "#RGlen_Me2 = AnyMatrix2Array(\"{{0.8497082, 0.1513123, 0.5050748},{-0.3436635, 0.8854322, 0.312898},{-0.3998642, -0.4394478, 0.8043595}}\")\n",
    "\n",
    "#-20 GlenoidAnteroAxis\n",
    "RHum_Me2 = AnyMatrix2Array(\"{{0.7504262, -0.5097813, -0.4206942},{-0.333394, -0.8415385, 0.4250427},{-0.5707092, -0.1787063, -0.8014706}}\")\n",
    "RGlen_Me2 = AnyMatrix2Array(\"{{0.8227992, 0.1013719, 0.5592183},{-0.3158607, 0.899571, 0.3016687},{-0.4724759, -0.4248479, 0.7721858}}\")\n",
    "\n"
   ]
  },
  {
   "cell_type": "code",
   "execution_count": 10,
   "id": "e9711270",
   "metadata": {},
   "outputs": [
    {
     "name": "stdout",
     "output_type": "stream",
     "text": [
      "Case 3 : Angle Moi -25° = 11.677519724629494\n",
      "Case 3 : Angle Laur -25° = 7.357131033681575\n"
     ]
    }
   ],
   "source": [
    "# Set My transform matrixes\n",
    "SetTransformMatrix(\"Hum_Me_Local\",RotMat = RHum_Me_Local)\n",
    "SetTransformMatrix(\"Hum_Me\",RotMat = RHum_Me)\n",
    "SetTransformMatrix(\"Glen_Me\",RotMat = RGlen_Me)\n",
    "\n",
    "# global\n",
    "Angle_Me = AngleBetweenAxis([\"x Hum Me\",\"x Glen Me\"])\n",
    "print(\"Case 3 : Angle Moi -25° = \" + str(Angle_Me))\n",
    "\n",
    "Angle_Laur = AngleBetweenAxis([\"x Hum Laur\",\"x Glen Laur\"])\n",
    "print(\"Case 3 : Angle Laur -25° = \" + str(Angle_Laur))"
   ]
  },
  {
   "cell_type": "code",
   "execution_count": 37,
   "id": "2f59946f",
   "metadata": {},
   "outputs": [
    {
     "name": "stdout",
     "output_type": "stream",
     "text": [
      "Case 3 : Angle Moi -25° = 7.0672268242759895\n",
      "Case 3 : Angle Laur -25° = 7.357131033681575\n"
     ]
    }
   ],
   "source": [
    "# Après rotation\n",
    "SetTransformMatrix(\"Hum_Me\",RotMat = RHum_Me2)\n",
    "SetTransformMatrix(\"Glen_Me\",RotMat = RGlen_Me2)\n",
    "\n",
    "Angle_Me2 = AngleBetweenAxis([\"x Hum Me\",\"x Glen Me\"])\n",
    "print(\"Case 3 : Angle Moi -25° = \" + str(Angle_Me2))\n",
    "\n",
    "Angle_Laur = AngleBetweenAxis([\"x Hum Laur\",\"x Glen Laur\"])\n",
    "print(\"Case 3 : Angle Laur -25° = \" + str(Angle_Laur))"
   ]
  },
  {
   "cell_type": "code",
   "execution_count": 11,
   "id": "dc662f67",
   "metadata": {},
   "outputs": [
    {
     "name": "stdout",
     "output_type": "stream",
     "text": [
      "Case 5 : Angle Moi -25° = 15.457059571462036\n",
      "Case 5 : Angle Laur -25° = 7.357131033681575\n"
     ]
    }
   ],
   "source": [
    "#Case 5 anterotilt\n",
    "\n",
    "#Avant rotation (ExtRot = -25°)\n",
    "RHum_Me = AnyMatrix2Array(\"{{0.6950201, -0.528015, -0.4880032},{-0.3374726, -0.8388953, 0.4270444},{-0.6348695, -0.1321168, -0.7612397}}\")\n",
    "RGlen_Me = AnyMatrix2Array(\"{{0.845619, 0.129139, 0.5179301},{-0.3393467, 0.8790362, 0.3348718},{-0.4120343, -0.4589319, 0.7871526}}\")\n",
    "\n",
    "\n",
    "\n",
    "# Set My transform matrixes\n",
    "SetTransformMatrix(\"Hum_Me_Local\",RotMat = RHum_Me_Local)\n",
    "SetTransformMatrix(\"Hum_Me\",RotMat = RHum_Me)\n",
    "SetTransformMatrix(\"Glen_Me\",RotMat = RGlen_Me)\n",
    "\n",
    "# global\n",
    "Angle_Me = AngleBetweenAxis([\"x Hum Me\",\"x Glen Me\"])\n",
    "print(\"Case 5 : Angle Moi -25° = \" + str(Angle_Me))\n",
    "\n",
    "Angle_Laur = AngleBetweenAxis([\"x Hum Laur\",\"x Glen Laur\"])\n",
    "print(\"Case 5 : Angle Laur -25° = \" + str(Angle_Laur))"
   ]
  },
  {
   "cell_type": "code",
   "execution_count": 15,
   "id": "b2696d78",
   "metadata": {},
   "outputs": [
    {
     "name": "stdout",
     "output_type": "stream",
     "text": [
      "Case 5 : Angle Moi -25° = 3.2421428029983543\n",
      "Case 5 : Angle Laur -25° = 7.357131033681575\n"
     ]
    }
   ],
   "source": [
    "# Case 5 anterotilt après rotation\n",
    "\n",
    "# -16\n",
    "#RHum_Me2 = AnyMatrix2Array(\"{{0.7948346, -0.4733436, -0.3797155},{-0.3116302, -0.8553192, 0.413903},{-0.5206963, -0.2106536, -0.8273454}}\")\n",
    "#RGlen_Me2 = AnyMatrix2Array(\"{{0.8477887, 0.1305208, 0.514022},{-0.3393737, 0.8783222, 0.336713},{-0.4075288, -0.459907, 0.788927}}\")\n",
    "\n",
    "#-10 (en face : angle = 3 mais axes x l'un au dessus de l'autre. peut pas faire mieux avec ExtRot)\n",
    "RHum_Me2 = AnyMatrix2Array(\"{{0.8507555, -0.4296842, -0.3026327},{-0.292549, -0.8655437, 0.4065086},{-0.4366121, -0.2573045, -0.8620697}}\")\n",
    "RGlen_Me2 = AnyMatrix2Array(\"{{0.8490322, 0.1313194, 0.5117612},{-0.3393871, 0.8779058, 0.3377837},{-0.4049206, -0.4604744, 0.7899384}}\")\n",
    "\n",
    "\n",
    "\n",
    "SetTransformMatrix(\"Hum_Me\",RotMat = RHum_Me2)\n",
    "SetTransformMatrix(\"Glen_Me\",RotMat = RGlen_Me2)\n",
    "\n",
    "Angle_Me2 = AngleBetweenAxis([\"x Hum Me\",\"x Glen Me\"])\n",
    "print(\"Case 5 : Angle Moi -25° = \" + str(Angle_Me2))\n",
    "\n",
    "Angle_Laur = AngleBetweenAxis([\"x Hum Laur\",\"x Glen Laur\"])\n",
    "print(\"Case 5 : Angle Laur -25° = \" + str(Angle_Laur))\n"
   ]
  },
  {
   "cell_type": "code",
   "execution_count": 17,
   "id": "ba41660d",
   "metadata": {},
   "outputs": [
    {
     "name": "stdout",
     "output_type": "stream",
     "text": [
      "Case 4 : Angle Moi -25° = 7.222542750793027\n",
      "Case 4 : Angle Laur -25° = 7.357131033681575\n"
     ]
    }
   ],
   "source": [
    "# Case 4 anterotilt\n",
    "\n",
    "#Avant rotation (ExtRot = -25°)\n",
    "RHum_Me = AnyMatrix2Array(\"{{0.6925968, -0.539241, -0.4790916},{-0.3472148, -0.8314023, 0.4338342},{-0.6322591, -0.1341245, -0.763059}}\")\n",
    "RGlen_Me = AnyMatrix2Array(\"{{0.7704747, 0.2866538, 0.5693842},{-0.3492832, 0.9370168, 0.0009035888},{-0.5332635, -0.1995726, 0.822071}}\")\n",
    "\n",
    "\n",
    "\n",
    "# Set My transform matrixes\n",
    "SetTransformMatrix(\"Hum_Me_Local\",RotMat = RHum_Me_Local)\n",
    "SetTransformMatrix(\"Hum_Me\",RotMat = RHum_Me)\n",
    "SetTransformMatrix(\"Glen_Me\",RotMat = RGlen_Me)\n",
    "\n",
    "# global\n",
    "Angle_Me = AngleBetweenAxis([\"x Hum Me\",\"x Glen Me\"])\n",
    "print(\"Case 4 : Angle Moi -25° = \" + str(Angle_Me))\n",
    "\n",
    "Angle_Laur = AngleBetweenAxis([\"x Hum Laur\",\"x Glen Laur\"])\n",
    "print(\"Case 4 : Angle Laur -25° = \" + str(Angle_Laur))"
   ]
  },
  {
   "cell_type": "code",
   "execution_count": 23,
   "id": "973ee720",
   "metadata": {},
   "outputs": [
    {
     "name": "stdout",
     "output_type": "stream",
     "text": [
      "Case 5 : Angle Moi -25° = 3.2172265629478534\n",
      "Case 5 : Angle Laur -25° = 7.357131033681575\n"
     ]
    }
   ],
   "source": [
    "# Case 4 anterotilt après rotation\n",
    "\n",
    "# -14\n",
    "RHum_Me2 = AnyMatrix2Array(\"{{0.8112756, -0.4733873, -0.3431274},{-0.319761, -0.85058, 0.4174526},{-0.489474, -0.2289503, -0.8414256}}\")\n",
    "RGlen_Me2 = AnyMatrix2Array(\"{{0.8145618, 0.3133786, 0.4881424},{-0.2939708, 0.9484595, -0.1183456},{-0.5000703, -0.04709984, 0.864703}}\")\n",
    "\n",
    "#- 15\n",
    "#RHum_Me2 = AnyMatrix2Array(\"{{0.8037294, -0.4711858, -0.3633223},{-0.3133324, -0.8542821, 0.4147588},{-0.5058082, -0.2195132, -0.8342494}}\")\n",
    "#RGlen_Me2 = AnyMatrix2Array(\"{{0.7704747, 0.2866538, 0.5693842},{-0.3492832, 0.9370168, 0.0009035888},{-0.5332635, -0.1995726, 0.822071}}\")\n",
    "\n",
    "\n",
    "#-10 (en face : angle = 3 mais axes x l'un au dessus de l'autre. peut pas faire mieux avec ExtRot)\n",
    "#RHum_Me2 = AnyMatrix2Array(\"{{0.8507555, -0.4296842, -0.3026327},{-0.292549, -0.8655437, 0.4065086},{-0.4366121, -0.2573045, -0.8620697}}\")\n",
    "#RGlen_Me2 = AnyMatrix2Array(\"{{0.8490322, 0.1313194, 0.5117612},{-0.3393871, 0.8779058, 0.3377837},{-0.4049206, -0.4604744, 0.7899384}}\")\n",
    "\n",
    "\n",
    "\n",
    "SetTransformMatrix(\"Hum_Me\",RotMat = RHum_Me2)\n",
    "SetTransformMatrix(\"Glen_Me\",RotMat = RGlen_Me2)\n",
    "\n",
    "Angle_Me2 = AngleBetweenAxis([\"x Hum Me\",\"x Glen Me\"])\n",
    "print(\"Case 5 : Angle Moi -25° = \" + str(Angle_Me2))\n",
    "\n",
    "Angle_Laur = AngleBetweenAxis([\"x Hum Laur\",\"x Glen Laur\"])\n",
    "print(\"Case 5 : Angle Laur -25° = \" + str(Angle_Laur))"
   ]
  },
  {
   "cell_type": "code",
   "execution_count": null,
   "id": "d1de5f5b",
   "metadata": {},
   "outputs": [],
   "source": [
    "#-21\n",
    "\n",
    "#up\n",
    "RHum_Me2 = AnyMatrix2Array(\"{{0.7399662, -0.5130434, -0.4350132},{-0.3334911, -0.8414602, 0.4251216},{-0.5841521, -0.1695026, -0.7937475}}\")\n",
    "RGlen_Me2 = AnyMatrix2Array(\"{{0.84853, 0.1505477, 0.5072793},{-0.3436084, 0.8858167, 0.3118685},{-0.4024054, -0.4389352, 0.8033715}}\")\n",
    "\n",
    "#down\n",
    "RHum_Me2 = AnyMatrix2Array(\"{{0.7397798, -0.5138798, -0.4343426},{-0.3342688, -0.8409206, 0.4255785},{-0.5839438, -0.1696472, -0.79387}}\")\n",
    "RGlen_Me2 = AnyMatrix2Array(\"{{0.7704747, 0.2866538, 0.5693842},{-0.3492832, 0.9370168, 0.0009035888},{-0.5332635, -0.1995726, 0.822071}}\")"
   ]
  }
 ],
 "metadata": {
  "kernelspec": {
   "display_name": "Slicer 5.2",
   "language": "python",
   "name": "slicer-5.2"
  },
  "language_info": {
   "file_extension": ".py",
   "mimetype": "text/x-python",
   "name": "python",
   "version": "3.9.10"
  }
 },
 "nbformat": 4,
 "nbformat_minor": 5
}
